{
 "cells": [
  {
   "cell_type": "code",
   "execution_count": 37,
   "metadata": {},
   "outputs": [],
   "source": [
    "import random\n",
    "import numpy as np\n",
    "import matplotlib.pylab as plt\n"
   ]
  },
  {
   "cell_type": "code",
   "execution_count": 38,
   "metadata": {},
   "outputs": [
    {
     "data": {
      "text/plain": [
       "473.53100883248396"
      ]
     },
     "execution_count": 38,
     "metadata": {},
     "output_type": "execute_result"
    }
   ],
   "source": [
    "Radius = 36\n",
    "random.seed(23)\n",
    "random.uniform(0,512)"
   ]
  },
  {
   "cell_type": "code",
   "execution_count": 203,
   "metadata": {},
   "outputs": [],
   "source": [
    "cx = [312, 70, 173, 250, 100, 30, 70, 210, 200, 112, 332, 346, 452, 431, 500, 480]\n",
    "cy = [327, 64, 112, 20, 350, 450, 210, 438, 261, 500, 172, 455, 349, 60, 210, 460]\n",
    "radius = [46, 42, 49, 48, 43, 48, 64, 56, 46, 30, 86, 62, 52, 38, 59, 41]\n",
    "#for i in range(1,30):\n",
    "#        cx.append(random.uniform(0,512))\n",
    "#        cy.append(random.uniform(0,512))\n",
    "        "
   ]
  },
  {
   "cell_type": "code",
   "execution_count": 244,
   "metadata": {},
   "outputs": [],
   "source": [
    "Lid = np.ones((512,512),dtype=np.uint8)\n",
    "ID = np.ones((512,512),dtype=np.uint8)\n",
    "for i in range(len(radius)):\n",
    "        Cx = cx[i]\n",
    "        Cy = cy[i]\n",
    "        Radius = radius[i]\n",
    "        for i in range(np.int(Cx-Radius),np.int(Cx+Radius)):\n",
    "            for j in range(np.int(Cy-Radius),np.int(Cy+Radius)):\n",
    "                if i>1 and i<512 and j>1 and j<512:\n",
    "                    if ((i-Cx)*(i-Cx) + (j-Cy)*(j-Cy) < Radius*Radius):\n",
    "                        ID[i,j] = 0\n",
    "                        \n",
    "for i in range(512):\n",
    "    ID[1,i] = 0\n",
    "    ID[2,i] = 0\n",
    "    ID[510,i] = 0\n",
    "    ID[511,i] = 0"
   ]
  },
  {
   "cell_type": "code",
   "execution_count": 245,
   "metadata": {},
   "outputs": [
    {
     "data": {
      "image/png": "[encoded data removed]",
      "text/plain": [
       "<Figure size 432x288 with 1 Axes>"
      ]
     },
     "metadata": {
      "needs_background": "light"
     },
     "output_type": "display_data"
    }
   ],
   "source": [
    "plt.figure(1)\n",
    "plt.title('segmented image')\n",
    "plt.pcolormesh(ID[:,:],cmap='hot')\n",
    "plt.grid(True)\n",
    "plt.axis('equal')\n",
    "plt.show()"
   ]
  },
  {
   "cell_type": "code",
   "execution_count": 246,
   "metadata": {},
   "outputs": [],
   "source": [
    "Data = np.transpose(np.array([Lid,ID,ID,ID,ID,ID,ID,ID,ID,ID,ID,ID,ID,ID,ID,ID,ID,Lid]))"
   ]
  },
  {
   "cell_type": "code",
   "execution_count": 248,
   "metadata": {},
   "outputs": [
    {
     "data": {
      "image/png": "[encoded data removed]",
      "text/plain": [
       "<Figure size 432x288 with 1 Axes>"
      ]
     },
     "metadata": {
      "needs_background": "light"
     },
     "output_type": "display_data"
    }
   ],
   "source": [
    "plt.figure(1)\n",
    "plt.title('segmented image')\n",
    "plt.pcolormesh(Data[:,:,9],cmap='hot')\n",
    "plt.grid(True)\n",
    "plt.axis('equal')\n",
    "plt.show()"
   ]
  },
  {
   "cell_type": "code",
   "execution_count": 249,
   "metadata": {},
   "outputs": [],
   "source": [
    "Data.tofile(\"discs512x512x18.raw\")"
   ]
  },
  {
   "cell_type": "code",
   "execution_count": null,
   "metadata": {},
   "outputs": [],
   "source": []
  }
 ],
 "metadata": {
  "kernelspec": {
   "display_name": "Python 3",
   "language": "python",
   "name": "python3"
  },
  "language_info": {
   "codemirror_mode": {
    "name": "ipython",
    "version": 3
   },
   "file_extension": ".py",
   "mimetype": "text/x-python",
   "name": "python",
   "nbconvert_exporter": "python",
   "pygments_lexer": "ipython3",
   "version": "3.8.3"
  }
 },
 "nbformat": 4,
 "nbformat_minor": 4
}
