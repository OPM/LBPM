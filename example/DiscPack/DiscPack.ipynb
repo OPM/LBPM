{
 "cells": [
  {
   "cell_type": "code",
   "execution_count": 3,
   "metadata": {},
   "outputs": [],
   "source": [
    "import numpy as np\n",
    "import matplotlib.pylab as plt\n",
    "import pandas as pd\n",
    "\n",
    "Nx=3\n",
    "Ny=128\n",
    "Nz=128\n",
    "dx = 1.0/(Nz-1)\n",
    "ID = np.ones(Nx*Ny*Nz,dtype='uint8')\n",
    "ID.shape = (Nz,Ny,Nx)"
   ]
  },
  {
   "cell_type": "code",
   "execution_count": 6,
   "metadata": {},
   "outputs": [],
   "source": [
    "for idx in range(len(D)):\n",
    "        #print(idx)\n",
    "        cx=D['cx'][idx] / dx\n",
    "        cy=D['cy'][idx] /dx\n",
    "        r=D['r'][idx] /dx\n",
    "        for i in range(0,Nz):\n",
    "            for j in range(0,Ny):\n",
    "                if ( (cx-i)*(cx-i) + (cy-j)*(cy-j) < r*r ):\n",
    "                    ID[i,j,0] = 0\n",
    "                    ID[i,j,1] = 0\n",
    "                    ID[i,j,2] = 0\n",
    "\n",
    "                    \n",
    "ID.tofile(\"discs_3x128x128.raw\")"
   ]
  },
  {
   "cell_type": "code",
   "execution_count": 7,
   "metadata": {},
   "outputs": [
    {
     "data": {
      "image/png": "[encoded data removed]",
      "text/plain": [
       "<Figure size 432x288 with 1 Axes>"
      ]
     },
     "metadata": {
      "needs_background": "light"
     },
     "output_type": "display_data"
    }
   ],
   "source": [
    "plt.figure(1)\n",
    "plt.title('segmented image')\n",
    "plt.pcolormesh(ID[:,:,1],cmap='hot')\n",
    "plt.grid(True)\n",
    "plt.axis('equal')\n",
    "plt.show()"
   ]
  },
  {
   "cell_type": "code",
   "execution_count": null,
   "metadata": {},
   "outputs": [],
   "source": []
  }
 ],
 "metadata": {
  "kernelspec": {
   "display_name": "Python 3",
   "language": "python",
   "name": "python3"
  },
  "language_info": {
   "codemirror_mode": {
    "name": "ipython",
    "version": 3
   },
   "file_extension": ".py",
   "mimetype": "text/x-python",
   "name": "python",
   "nbconvert_exporter": "python",
   "pygments_lexer": "ipython3",
   "version": "3.7.4"
  }
 },
 "nbformat": 4,
 "nbformat_minor": 4
}
