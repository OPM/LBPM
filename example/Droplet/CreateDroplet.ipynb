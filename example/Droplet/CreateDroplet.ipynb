{
 "cells": [
  {
   "cell_type": "code",
   "execution_count": 2,
   "metadata": {},
   "outputs": [],
   "source": [
    "import numpy as np\n",
    "import matplotlib.pylab as plt\n",
    "\n",
    "D=np.ones((80,80,40),dtype=\"uint8\")\n",
    "\n",
    "cx = 40\n",
    "cy = 40\n",
    "cz = 0\n",
    "\n",
    "for i in range(0,80):\n",
    "    for j in range (0, 80):\n",
    "        for k in range (0,40):\n",
    "            dist = np.sqrt((i-cx)*(i-cx) + (j-cx)*(j-cx) + (k-cz)*(k-cz))\n",
    "            if (dist < 25) :\n",
    "                D[i,j,k] = 2\n",
    "            if k < 4 : \n",
    "                D[i,j,k] = 0\n",
    "                \n",
    "D.tofile(\"droplet_40x80x80.raw\")"
   ]
  },
  {
   "cell_type": "code",
   "execution_count": 3,
   "metadata": {},
   "outputs": [
    {
     "data": {
      "image/png": "[encoded data removed]",
      "text/plain": [
       "<Figure size 432x288 with 1 Axes>"
      ]
     },
     "metadata": {
      "needs_background": "light"
     },
     "output_type": "display_data"
    }
   ],
   "source": [
    "ID = np.fromfile('droplet_40x80x80.raw', dtype = np.uint8)\n",
    "ID.shape = (80,80,40)\n",
    "plt.figure(1)\n",
    "plt.title('segmented image')\n",
    "plt.pcolormesh(np.transpose(ID[:,40,:]),cmap='hot')\n",
    "plt.grid(True)\n",
    "plt.axis('equal')\n",
    "plt.show()"
   ]
  },
  {
   "cell_type": "code",
   "execution_count": 4,
   "metadata": {},
   "outputs": [],
   "source": [
    "import numpy as np\n",
    "import matplotlib.pylab as plt\n",
    "\n",
    "D=np.ones((256,256,64),dtype=\"uint8\")\n",
    "\n",
    "cx = 128\n",
    "cy = 128\n",
    "cz = 0\n",
    "\n",
    "for i in range(0,256):\n",
    "    for j in range (0, 256):\n",
    "        for k in range (0,64):\n",
    "            dist = np.sqrt((i-cx)*(i-cx) + (j-cx)*(j-cx) + (k-cz)*(k-cz))\n",
    "            if (dist < 48) :\n",
    "                D[i,j,k] = 2\n",
    "            if k < 4 : \n",
    "                D[i,j,k] = 0\n",
    "                \n",
    "D.tofile(\"droplet_64x256x256.raw\")"
   ]
  },
  {
   "cell_type": "code",
   "execution_count": 5,
   "metadata": {},
   "outputs": [
    {
     "data": {
      "image/png": "[encoded data removed]",
      "text/plain": [
       "<Figure size 432x288 with 1 Axes>"
      ]
     },
     "metadata": {
      "needs_background": "light"
     },
     "output_type": "display_data"
    }
   ],
   "source": [
    "ID = np.fromfile('droplet_64x256x256.raw', dtype = np.uint8)\n",
    "ID.shape = (256,256,64)\n",
    "plt.figure(1)\n",
    "plt.title('segmented image')\n",
    "plt.pcolormesh(np.transpose(ID[:,128,:]),cmap='hot')\n",
    "plt.grid(True)\n",
    "plt.axis('equal')\n",
    "plt.show()"
   ]
  },
  {
   "cell_type": "code",
   "execution_count": 10,
   "metadata": {},
   "outputs": [],
   "source": [
    "D=np.ones((200,200,80),dtype=\"uint8\")\n",
    "\n",
    "cx = 100\n",
    "cy = 100\n",
    "cz = 25\n",
    "\n",
    "for i in range(0,200):\n",
    "    for j in range (0, 200):\n",
    "        for k in range (0,80):\n",
    "            dist = np.sqrt((i-cx)*(i-cx) + (j-cx)*(j-cx) + (k-cz)*(k-cz))\n",
    "            if (dist < 30) :\n",
    "                D[i,j,k] = 2\n",
    "            if k < 4 : \n",
    "                D[i,j,k] = 0\n",
    "                \n",
    "D.tofile(\"droplet_80x200x200.raw\")"
   ]
  },
  {
   "cell_type": "code",
   "execution_count": 11,
   "metadata": {},
   "outputs": [
    {
     "data": {
      "image/png": "[encoded data removed]",
      "text/plain": [
       "<Figure size 432x288 with 1 Axes>"
      ]
     },
     "metadata": {
      "needs_background": "light"
     },
     "output_type": "display_data"
    }
   ],
   "source": [
    "ID = np.fromfile('droplet_80x200x200.raw', dtype = np.uint8)\n",
    "ID.shape = (200,200,80)\n",
    "plt.figure(1)\n",
    "plt.title('segmented image')\n",
    "plt.pcolormesh(np.transpose(ID[:,100,:]),cmap='hot')\n",
    "plt.grid(True)\n",
    "plt.axis('equal')\n",
    "plt.show()"
   ]
  },
  {
   "cell_type": "code",
   "execution_count": null,
   "metadata": {},
   "outputs": [],
   "source": []
  }
 ],
 "metadata": {
  "kernelspec": {
   "display_name": "Python 3",
   "language": "python",
   "name": "python3"
  },
  "language_info": {
   "codemirror_mode": {
    "name": "ipython",
    "version": 3
   },
   "file_extension": ".py",
   "mimetype": "text/x-python",
   "name": "python",
   "nbconvert_exporter": "python",
   "pygments_lexer": "ipython3",
   "version": "3.7.4"
  }
 },
 "nbformat": 4,
 "nbformat_minor": 2
}
